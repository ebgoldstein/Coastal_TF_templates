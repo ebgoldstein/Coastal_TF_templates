{
 "cells": [
  {
   "cell_type": "code",
   "execution_count": 1,
   "metadata": {},
   "outputs": [],
   "source": [
    "#This is a general classifcation template. The data used here is binary.. \n",
    "# a folder of all water NOAA images, and a folder of images that are not all water"
   ]
  },
  {
   "cell_type": "code",
   "execution_count": 2,
   "metadata": {},
   "outputs": [
    {
     "name": "stdout",
     "output_type": "stream",
     "text": [
      "TF version: 2.3.2\n"
     ]
    }
   ],
   "source": [
    "# import the general stuff\n",
    "import os\n",
    "from os import getcwd\n",
    "import matplotlib.pyplot as plt\n",
    "import pandas as pd \n",
    "import numpy as np\n",
    "from sklearn import metrics\n",
    "import math\n",
    "\n",
    "#Set GPU to use\n",
    "os.environ[\"CUDA_DEVICE_ORDER\"] = \"PCI_BUS_ID\"\n",
    "os.environ[\"CUDA_VISIBLE_DEVICES\"] = \"1\"\n",
    "\n",
    "#import the tf stuff\n",
    "import tensorflow as tf\n",
    "from tensorflow.keras import layers\n",
    "from tensorflow.keras import Model\n",
    "\n",
    "from tensorflow.keras.preprocessing.image import ImageDataGenerator\n",
    "\n",
    "#Check TensorFlow Version\n",
    "print('TF version: {}' .format(tf.__version__))"
   ]
  },
  {
   "cell_type": "code",
   "execution_count": 3,
   "metadata": {},
   "outputs": [
    {
     "name": "stdout",
     "output_type": "stream",
     "text": [
      " GPU: /device:GPU:0\n"
     ]
    }
   ],
   "source": [
    "#Check for GPU utilization\n",
    "if tf.test.gpu_device_name():\n",
    "    print(' GPU: {}'.format(tf.test.gpu_device_name()))\n",
    "else:\n",
    "    print(\"No GPU\")"
   ]
  },
  {
   "cell_type": "code",
   "execution_count": 4,
   "metadata": {},
   "outputs": [
    {
     "name": "stdout",
     "output_type": "stream",
     "text": [
      "Found 2955 images belonging to 2 classes.\n",
      "Found 1970 images belonging to 2 classes.\n"
     ]
    }
   ],
   "source": [
    "#build data generators for training and validaton\n",
    "\n",
    "split = 0.4\n",
    "\n",
    "# Define dirs and files\n",
    "train_data_dir = '../data/classification'\n",
    "\n",
    "# Add our data-augmentation parameters to ImageDataGenerator and split data\n",
    "train_datagen = ImageDataGenerator(rescale =1./255.,\n",
    "                                   rotation_range = 90,\n",
    "                                   width_shift_range = 0.5,\n",
    "                                   height_shift_range = 0.5,\n",
    "                                   shear_range = 0.45,\n",
    "                                   zoom_range = 0.2,\n",
    "                                   horizontal_flip = True,\n",
    "                                   vertical_flip = True,\n",
    "                                   validation_split = split)\n",
    "\n",
    "\n",
    "#set batch Size\n",
    "batch_size = 16\n",
    "\n",
    "#set Image size (RGB so imshape is 3)\n",
    "pix_dim = 224\n",
    "imsize = (pix_dim,pix_dim) \n",
    "imshape = (pix_dim,pix_dim,3)\n",
    "\n",
    "# Flow training images in batches \n",
    "train_generator = train_datagen.flow_from_directory(train_data_dir,\n",
    "                                                    batch_size = batch_size,\n",
    "                                                    class_mode = 'binary',\n",
    "                                                    target_size = imsize,\n",
    "                                                    subset='training')\n",
    "\n",
    "# Flow validation images in batches \n",
    "validation_generator =  train_datagen.flow_from_directory(train_data_dir, # same directory as training data,\n",
    "                                                        batch_size = batch_size,\n",
    "                                                        class_mode = 'binary',\n",
    "                                                        target_size = imsize,\n",
    "                                                        subset='validation')"
   ]
  },
  {
   "cell_type": "code",
   "execution_count": 5,
   "metadata": {},
   "outputs": [
    {
     "name": "stdout",
     "output_type": "stream",
     "text": [
      "shape of last layer is  (None, 7, 7, 512)\n",
      "Model: \"functional_1\"\n",
      "_________________________________________________________________\n",
      "Layer (type)                 Output Shape              Param #   \n",
      "=================================================================\n",
      "input_1 (InputLayer)         [(None, 224, 224, 3)]     0         \n",
      "_________________________________________________________________\n",
      "block1_conv1 (Conv2D)        (None, 224, 224, 64)      1792      \n",
      "_________________________________________________________________\n",
      "block1_conv2 (Conv2D)        (None, 224, 224, 64)      36928     \n",
      "_________________________________________________________________\n",
      "block1_pool (MaxPooling2D)   (None, 112, 112, 64)      0         \n",
      "_________________________________________________________________\n",
      "block2_conv1 (Conv2D)        (None, 112, 112, 128)     73856     \n",
      "_________________________________________________________________\n",
      "block2_conv2 (Conv2D)        (None, 112, 112, 128)     147584    \n",
      "_________________________________________________________________\n",
      "block2_pool (MaxPooling2D)   (None, 56, 56, 128)       0         \n",
      "_________________________________________________________________\n",
      "block3_conv1 (Conv2D)        (None, 56, 56, 256)       295168    \n",
      "_________________________________________________________________\n",
      "block3_conv2 (Conv2D)        (None, 56, 56, 256)       590080    \n",
      "_________________________________________________________________\n",
      "block3_conv3 (Conv2D)        (None, 56, 56, 256)       590080    \n",
      "_________________________________________________________________\n",
      "block3_pool (MaxPooling2D)   (None, 28, 28, 256)       0         \n",
      "_________________________________________________________________\n",
      "block4_conv1 (Conv2D)        (None, 28, 28, 512)       1180160   \n",
      "_________________________________________________________________\n",
      "block4_conv2 (Conv2D)        (None, 28, 28, 512)       2359808   \n",
      "_________________________________________________________________\n",
      "block4_conv3 (Conv2D)        (None, 28, 28, 512)       2359808   \n",
      "_________________________________________________________________\n",
      "block4_pool (MaxPooling2D)   (None, 14, 14, 512)       0         \n",
      "_________________________________________________________________\n",
      "block5_conv1 (Conv2D)        (None, 14, 14, 512)       2359808   \n",
      "_________________________________________________________________\n",
      "block5_conv2 (Conv2D)        (None, 14, 14, 512)       2359808   \n",
      "_________________________________________________________________\n",
      "block5_conv3 (Conv2D)        (None, 14, 14, 512)       2359808   \n",
      "_________________________________________________________________\n",
      "block5_pool (MaxPooling2D)   (None, 7, 7, 512)         0         \n",
      "_________________________________________________________________\n",
      "flatten (Flatten)            (None, 25088)             0         \n",
      "_________________________________________________________________\n",
      "dense (Dense)                (None, 1024)              25691136  \n",
      "_________________________________________________________________\n",
      "dropout (Dropout)            (None, 1024)              0         \n",
      "_________________________________________________________________\n",
      "dense_1 (Dense)              (None, 1)                 1025      \n",
      "=================================================================\n",
      "Total params: 40,406,849\n",
      "Trainable params: 40,406,849\n",
      "Non-trainable params: 0\n",
      "_________________________________________________________________\n"
     ]
    }
   ],
   "source": [
    "#load or build model\n",
    "##########\n",
    "\n",
    "#base model, no top layer, w/ imagenet weights\n",
    "base_model = tf.keras.applications.VGG16(input_shape = imshape, \n",
    "                                             include_top = False, \n",
    "                                             weights = 'imagenet')\n",
    "\n",
    "base_model.trainable = True\n",
    "# add a new classifcation layer\n",
    "\n",
    "final_layer = base_model.get_layer('block5_pool')\n",
    "print('shape of last layer is ', final_layer.output_shape)\n",
    "final_base_output = final_layer.output\n",
    "\n",
    "\n",
    "#add the last layer\n",
    "# Flatten the output layer to 1 dimension\n",
    "x = layers.Flatten()(final_base_output )\n",
    "# Add a fully connected layer with 1,024 hidden units and ReLU activation\n",
    "x = layers.Dense(1024, activation='relu', kernel_regularizer = tf.keras.regularizers.l2(1e-4))(x)\n",
    "# Add a dropout rate of 0.5\n",
    "x = layers.Dropout(0.5)(x)                  \n",
    "# Add a final sigmoid layer for classification\n",
    "x = layers.Dense(1, activation='sigmoid')(x)           \n",
    "\n",
    "model = Model(base_model.input, x) \n",
    "#############\n",
    "model.summary()"
   ]
  },
  {
   "cell_type": "code",
   "execution_count": 6,
   "metadata": {},
   "outputs": [],
   "source": [
    "# define the metrics\n",
    "acc_metric = tf.keras.metrics.BinaryAccuracy(name='acc')"
   ]
  },
  {
   "cell_type": "code",
   "execution_count": 7,
   "metadata": {},
   "outputs": [],
   "source": [
    "#build the model\n",
    "model.compile(loss = 'binary_crossentropy',\n",
    "              optimizer = tf.keras.optimizers.RMSprop(lr = 1e-5),\n",
    "              metrics = acc_metric)"
   ]
  },
  {
   "cell_type": "code",
   "execution_count": 8,
   "metadata": {},
   "outputs": [],
   "source": [
    "# define a callback\n",
    "\n",
    "callbacks = tf.keras.callbacks.EarlyStopping(monitor = 'loss', \n",
    "                                             patience = 10, \n",
    "                                             restore_best_weights = True)"
   ]
  },
  {
   "cell_type": "code",
   "execution_count": 9,
   "metadata": {
    "scrolled": true
   },
   "outputs": [
    {
     "name": "stdout",
     "output_type": "stream",
     "text": [
      "Epoch 1/30\n",
      "185/185 [==============================] - 137s 743ms/step - loss: 0.4337 - acc: 0.8981 - val_loss: 0.5671 - val_acc: 0.8949\n",
      "Epoch 2/30\n",
      "185/185 [==============================] - 137s 739ms/step - loss: 0.3112 - acc: 0.9499 - val_loss: 0.4711 - val_acc: 0.9025\n",
      "Epoch 3/30\n",
      "185/185 [==============================] - 135s 731ms/step - loss: 0.2582 - acc: 0.9597 - val_loss: 0.3831 - val_acc: 0.9173\n",
      "Epoch 4/30\n",
      "185/185 [==============================] - 134s 723ms/step - loss: 0.2513 - acc: 0.9584 - val_loss: 0.3994 - val_acc: 0.9147\n",
      "Epoch 5/30\n",
      "185/185 [==============================] - 143s 771ms/step - loss: 0.2243 - acc: 0.9614 - val_loss: 0.3372 - val_acc: 0.9249\n",
      "Epoch 6/30\n",
      "185/185 [==============================] - 142s 770ms/step - loss: 0.2014 - acc: 0.9624 - val_loss: 0.3157 - val_acc: 0.9193\n",
      "Epoch 7/30\n",
      "185/185 [==============================] - 136s 737ms/step - loss: 0.1838 - acc: 0.9655 - val_loss: 0.3707 - val_acc: 0.9168\n",
      "Epoch 8/30\n",
      "185/185 [==============================] - 138s 747ms/step - loss: 0.1796 - acc: 0.9628 - val_loss: 0.3828 - val_acc: 0.9279\n",
      "Epoch 9/30\n",
      "185/185 [==============================] - 149s 806ms/step - loss: 0.1755 - acc: 0.9587 - val_loss: 0.2722 - val_acc: 0.9279\n",
      "Epoch 10/30\n",
      "185/185 [==============================] - 146s 787ms/step - loss: 0.1561 - acc: 0.9662 - val_loss: 0.3456 - val_acc: 0.9239\n",
      "Epoch 11/30\n",
      "185/185 [==============================] - 138s 745ms/step - loss: 0.1441 - acc: 0.9702 - val_loss: 0.2890 - val_acc: 0.9234\n",
      "Epoch 12/30\n",
      "185/185 [==============================] - 142s 769ms/step - loss: 0.1370 - acc: 0.9682 - val_loss: 0.3503 - val_acc: 0.9259\n",
      "Epoch 13/30\n",
      "185/185 [==============================] - 139s 753ms/step - loss: 0.1289 - acc: 0.9702 - val_loss: 0.2670 - val_acc: 0.9345\n",
      "Epoch 14/30\n",
      "185/185 [==============================] - 140s 757ms/step - loss: 0.1404 - acc: 0.9648 - val_loss: 0.3221 - val_acc: 0.9178\n",
      "Epoch 15/30\n",
      "185/185 [==============================] - 138s 749ms/step - loss: 0.1195 - acc: 0.9672 - val_loss: 0.4203 - val_acc: 0.9274\n",
      "Epoch 16/30\n",
      "185/185 [==============================] - 147s 793ms/step - loss: 0.1271 - acc: 0.9675 - val_loss: 0.2018 - val_acc: 0.9310\n",
      "Epoch 17/30\n",
      "185/185 [==============================] - 140s 758ms/step - loss: 0.1201 - acc: 0.9679 - val_loss: 0.2328 - val_acc: 0.9340\n",
      "Epoch 18/30\n",
      "185/185 [==============================] - 137s 742ms/step - loss: 0.1177 - acc: 0.9682 - val_loss: 0.2305 - val_acc: 0.9294\n",
      "Epoch 19/30\n",
      "185/185 [==============================] - 139s 752ms/step - loss: 0.1170 - acc: 0.9668 - val_loss: 0.2888 - val_acc: 0.9315\n",
      "Epoch 20/30\n",
      "185/185 [==============================] - 135s 732ms/step - loss: 0.1223 - acc: 0.9672 - val_loss: 0.2745 - val_acc: 0.9294\n",
      "Epoch 21/30\n",
      "185/185 [==============================] - 139s 753ms/step - loss: 0.1174 - acc: 0.9692 - val_loss: 0.2757 - val_acc: 0.9279\n",
      "Epoch 22/30\n",
      "185/185 [==============================] - 137s 740ms/step - loss: 0.1084 - acc: 0.9679 - val_loss: 0.4175 - val_acc: 0.9249\n",
      "Epoch 23/30\n",
      "185/185 [==============================] - 132s 715ms/step - loss: 0.1029 - acc: 0.9699 - val_loss: 0.4053 - val_acc: 0.9330\n",
      "Epoch 24/30\n",
      "185/185 [==============================] - 135s 732ms/step - loss: 0.1055 - acc: 0.9723 - val_loss: 0.4609 - val_acc: 0.9203\n",
      "Epoch 25/30\n",
      "185/185 [==============================] - 136s 733ms/step - loss: 0.1078 - acc: 0.9682 - val_loss: 0.2209 - val_acc: 0.9345\n",
      "Epoch 26/30\n",
      "185/185 [==============================] - 134s 723ms/step - loss: 0.1084 - acc: 0.9648 - val_loss: 0.4935 - val_acc: 0.9239\n",
      "Epoch 27/30\n",
      "185/185 [==============================] - 132s 715ms/step - loss: 0.1173 - acc: 0.9651 - val_loss: 0.2498 - val_acc: 0.9228\n",
      "Epoch 28/30\n",
      "185/185 [==============================] - 136s 735ms/step - loss: 0.1137 - acc: 0.9668 - val_loss: 0.2518 - val_acc: 0.9310\n",
      "Epoch 29/30\n",
      "185/185 [==============================] - 137s 741ms/step - loss: 0.1076 - acc: 0.9709 - val_loss: 0.4028 - val_acc: 0.9234\n",
      "Epoch 30/30\n",
      "185/185 [==============================] - 138s 749ms/step - loss: 0.0997 - acc: 0.9695 - val_loss: 0.2516 - val_acc: 0.9178\n"
     ]
    }
   ],
   "source": [
    "#train the model\n",
    "history = model.fit(train_generator,\n",
    "                    validation_data = validation_generator,\n",
    "                    workers = 12,\n",
    "                    epochs= 30,\n",
    "                    callbacks =[callbacks])"
   ]
  },
  {
   "cell_type": "code",
   "execution_count": 10,
   "metadata": {},
   "outputs": [
    {
     "data": {
      "image/png": "[encoded data removed]",
      "text/plain": [
       "<Figure size 432x288 with 1 Axes>"
      ]
     },
     "metadata": {
      "needs_background": "light"
     },
     "output_type": "display_data"
    },
    {
     "data": {
      "text/plain": [
       "<Figure size 432x288 with 0 Axes>"
      ]
     },
     "metadata": {},
     "output_type": "display_data"
    },
    {
     "data": {
      "image/png": "[encoded data removed]",
      "text/plain": [
       "<Figure size 432x288 with 1 Axes>"
      ]
     },
     "metadata": {
      "needs_background": "light"
     },
     "output_type": "display_data"
    },
    {
     "data": {
      "text/plain": [
       "<Figure size 432x288 with 0 Axes>"
      ]
     },
     "metadata": {},
     "output_type": "display_data"
    }
   ],
   "source": [
    "#look at the metrics from training\n",
    "%matplotlib inline\n",
    "\n",
    "acc = history.history['acc']\n",
    "val_acc = history.history['val_acc']\n",
    "loss = history.history['loss']\n",
    "val_loss = history.history['val_loss']\n",
    "\n",
    "epochs = range(len(acc))\n",
    "\n",
    "plt.plot(epochs, acc, 'r', label='Training accuracy')\n",
    "plt.plot(epochs, val_acc, 'b', label='Validation accuracy')\n",
    "\n",
    "plt.title('Training and validation accuracy')\n",
    "plt.legend(loc=0)\n",
    "plt.figure()\n",
    "plt.show()\n",
    "\n",
    "plt.plot(epochs, loss, 'r--', label='Training loss')\n",
    "plt.plot(epochs, val_loss, 'b--', label='Validation loss')\n",
    "plt.title('Training and validation loss') \n",
    "plt.legend(loc=0)\n",
    "plt.figure()\n",
    "plt.show()"
   ]
  },
  {
   "cell_type": "code",
   "execution_count": 11,
   "metadata": {},
   "outputs": [
    {
     "name": "stdout",
     "output_type": "stream",
     "text": [
      "WARNING:tensorflow:From /usr/lib/python3/dist-packages/tensorflow/python/training/tracking/tracking.py:111: Model.state_updates (from tensorflow.python.keras.engine.training) is deprecated and will be removed in a future version.\n",
      "Instructions for updating:\n",
      "This property should not be used in TensorFlow 2.0, as updates are applied automatically.\n",
      "WARNING:tensorflow:From /usr/lib/python3/dist-packages/tensorflow/python/training/tracking/tracking.py:111: Layer.updates (from tensorflow.python.keras.engine.base_layer) is deprecated and will be removed in a future version.\n",
      "Instructions for updating:\n",
      "This property should not be used in TensorFlow 2.0, as updates are applied automatically.\n",
      "INFO:tensorflow:Assets written to: ./models/VGG16_water/assets\n"
     ]
    }
   ],
   "source": [
    "#save the model\n",
    "filepath = './models/VGG16_water'\n",
    "model.save(filepath)\n",
    "\n",
    "#load model\n",
    "#model = tf.keras.models.load_model(filepath, compile = True)"
   ]
  },
  {
   "cell_type": "code",
   "execution_count": null,
   "metadata": {},
   "outputs": [],
   "source": []
  }
 ],
 "metadata": {
  "kernelspec": {
   "display_name": "Python 3",
   "language": "python",
   "name": "python3"
  },
  "language_info": {
   "codemirror_mode": {
    "name": "ipython",
    "version": 3
   },
   "file_extension": ".py",
   "mimetype": "text/x-python",
   "name": "python",
   "nbconvert_exporter": "python",
   "pygments_lexer": "ipython3",
   "version": "3.8.10"
  }
 },
 "nbformat": 4,
 "nbformat_minor": 2
}
